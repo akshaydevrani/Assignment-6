{
 "cells": [
  {
   "cell_type": "code",
   "execution_count": 3,
   "id": "f09de050",
   "metadata": {},
   "outputs": [
    {
     "name": "stdout",
     "output_type": "stream",
     "text": [
      "Bruno is 3 years old.\n",
      "Bruno's coat color is white and brown.\n",
      "Bruno is a Jack Russell Terrier and is known for its agility and intelligence.\n",
      "Bruno barks energetically!\n",
      "\n",
      "Pluto is 5 years old.\n",
      "Pluto's coat color is brindle.\n",
      "Pluto is a Bulldog and has a distinctive wrinkled face and muscular build.\n",
      "Pluto the Bulldog is snoring loudly!\n"
     ]
    }
   ],
   "source": [
    "#Assignment 2\n",
    "#👉 1. Create a class named ‘Dog’. It should have a constructor which accepts its name, age and coat color. You must perform the following operations:\n",
    "#🔴 a. It should have a function ‘description()’ which prints the name and age of the dog.\n",
    "#🔴 b. It should have a function ‘get_info()’ which prints the coat color of the dog.\n",
    "#🔴 c. Create child classes ‘JackRussellTerrier’ and ‘Bulldog’ which is inherited from the class ‘Dog’. It should have at least two methods of its own.\n",
    "#🔴 d. Create objects and implement the above functionalities.\n",
    "\n",
    "class Dog:\n",
    "    def __init__(self, name, age, coat_color):\n",
    "        self.name = name\n",
    "        self.age = age\n",
    "        self.coat_color = coat_color\n",
    "\n",
    "    def description(self):\n",
    "        print(f\"{self.name} is {self.age} years old.\")\n",
    "\n",
    "    def get_info(self):\n",
    "        print(f\"{self.name}'s coat color is {self.coat_color}.\")\n",
    "\n",
    "\n",
    "class JackRussellTerrier(Dog):\n",
    "    def __init__(self, name, age, coat_color):\n",
    "        super().__init__(name, age, coat_color)\n",
    "\n",
    "    def special_ability(self):\n",
    "        print(f\"{self.name} is a Jack Russell Terrier and is known for its agility and intelligence.\")\n",
    "\n",
    "    def bark(self):\n",
    "        print(f\"{self.name} barks energetically!\")\n",
    "\n",
    "\n",
    "class Bulldog(Dog):\n",
    "    def __init__(self, name, age, coat_color):\n",
    "        super().__init__(name, age, coat_color)\n",
    "\n",
    "    def unique_trait(self):\n",
    "        print(f\"{self.name} is a Bulldog and has a distinctive wrinkled face and muscular build.\")\n",
    "\n",
    "    def snore(self):\n",
    "        print(f\"{self.name} the Bulldog is snoring loudly!\")\n",
    "\n",
    "dog1 = JackRussellTerrier(\"Bruno\", 3, \"white and brown\")\n",
    "dog2 = Bulldog(\"Pluto\", 5, \"brindle\")\n",
    "\n",
    "dog1.description()\n",
    "dog1.get_info()\n",
    "dog1.special_ability()\n",
    "dog1.bark()\n",
    "\n",
    "print()\n",
    "\n",
    "dog2.description()\n",
    "dog2.get_info()\n",
    "dog2.unique_trait()\n",
    "dog2.snore()"
   ]
  },
  {
   "cell_type": "code",
   "execution_count": null,
   "id": "0a56dfdd",
   "metadata": {},
   "outputs": [],
   "source": []
  }
 ],
 "metadata": {
  "kernelspec": {
   "display_name": "Python 3 (ipykernel)",
   "language": "python",
   "name": "python3"
  },
  "language_info": {
   "codemirror_mode": {
    "name": "ipython",
    "version": 3
   },
   "file_extension": ".py",
   "mimetype": "text/x-python",
   "name": "python",
   "nbconvert_exporter": "python",
   "pygments_lexer": "ipython3",
   "version": "3.11.3"
  }
 },
 "nbformat": 4,
 "nbformat_minor": 5
}
